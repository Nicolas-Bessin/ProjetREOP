{
 "cells": [
  {
   "cell_type": "code",
   "execution_count": 4,
   "metadata": {},
   "outputs": [],
   "source": [
    "using KIRO2023"
   ]
  },
  {
   "cell_type": "code",
   "execution_count": 5,
   "metadata": {},
   "outputs": [
    {
     "data": {
      "text/plain": [
       "4-element Vector{String}:\n",
       " \"small-best.json\"\n",
       " \"medium-best.json\"\n",
       " \"large-best.json\"\n",
       " \"huge-best.json\""
      ]
     },
     "metadata": {},
     "output_type": "display_data"
    }
   ],
   "source": [
    "sizes = [\"small\", \"medium\", \"large\", \"huge\"]\n",
    "\n",
    "instanceFiles = [\n",
    "    \"../../instances/KIRO-$size.json\" for size in sizes\n",
    "]\n",
    "\n",
    "solutionFilesKIRO = [\n",
    "    \"$(size)_1.json\" for size in sizes\n",
    "]\n",
    "\n",
    "solutionFilesSELF = [\n",
    "    \"$(size)-best.json\" for size in sizes\n",
    "]\n"
   ]
  },
  {
   "cell_type": "code",
   "execution_count": 6,
   "metadata": {},
   "outputs": [
    {
     "name": "stdout",
     "output_type": "stream",
     "text": [
      "Best KIRO: \n",
      "Total cost for small: 3255.746455019478\n",
      "Total cost for medium: 6487.4804371440605\n",
      "Total cost for large: 8942.835992764183\n",
      "Total cost for huge: 5635.934559837025\n",
      "Total: 24321.997444764744\n",
      "\n",
      "Best SELF: \n",
      "Total cost for small: 3244.157472037383\n",
      "Total cost for medium: 6425.977972628821\n",
      "Total cost for large: 8566.178802270984\n"
     ]
    },
    {
     "name": "stdout",
     "output_type": "stream",
     "text": [
      "Total cost for huge: 5583.63197380071\n",
      "Total: 23819.946220737897\n"
     ]
    }
   ],
   "source": [
    "function printCosts(sizes, instanceFiles, solutionFiles)\n",
    "    total = 0\n",
    "    for (size, instanceFile, solutionFile) in zip(sizes, instanceFiles, solutionFiles)\n",
    "        instance = read_instance(instanceFile)\n",
    "        solution = read_solution(solutionFile, instance)\n",
    "        consCost = construction_cost(solution, instance)\n",
    "        opeCost = operational_cost(solution, instance)\n",
    "        cost = consCost + opeCost\n",
    "        println(\"Total cost for $size: $cost\")\n",
    "        total += cost\n",
    "    end\n",
    "    println(\"Total: $total\")\n",
    "end\n",
    "\n",
    "println(\"Best KIRO: \")\n",
    "printCosts(sizes, instanceFiles, solutionFilesKIRO)\n",
    "println(\"\\nBest SELF: \")\n",
    "printCosts(sizes, instanceFiles, solutionFilesSELF)\n"
   ]
  }
 ],
 "metadata": {
  "kernelspec": {
   "display_name": "Julia 1.9.4",
   "language": "julia",
   "name": "julia-1.9"
  },
  "language_info": {
   "file_extension": ".jl",
   "mimetype": "application/julia",
   "name": "julia",
   "version": "1.9.4"
  }
 },
 "nbformat": 4,
 "nbformat_minor": 2
}
